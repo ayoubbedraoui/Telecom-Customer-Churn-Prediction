{
 "cells": [
  {
   "cell_type": "markdown",
   "metadata": {},
   "source": [
    "# Telco Customer Churn Prediction using python \n",
    "The Telco customer churn data contains information about a fictional telco company that provided home phone and Internet services to 7043 customers in California in Q3. It indicates which customers have left, stayed, or signed up for their service. Multiple important demographics are included for each customer, as well as a Satisfaction Score, Churn Score, and Customer Lifetime Value (CLTV) index."
   ]
  },
  {
   "cell_type": "markdown",
   "metadata": {},
   "source": [
    "# <span style=\"font-family:serif; font-size:28px;\"> Content</span>\n",
    "\n",
    "1. [Introduction](#1)\n",
    "    * [What is Customer Churn?](#2)\n",
    "    * [How can customer churn be reducded?](#3)\n",
    "    * [Objectives](#4)\n",
    "2. [Loading libraries and data](#5)\n",
    "3. [Undertanding the data](#6)\n",
    "4. [Visualize missing values](#7)\n",
    "5. [Data Manipulation](#8)\n",
    "6. [Data Visualization](#9)\n",
    "7. [Data Preprocessing](#10)\n",
    "   * [Standardizing numeric attributes](#111)\n",
    "8. [Machine Learning Model Evaluations and Predictions](#11)\n",
    "   * [KNN](#101)\n",
    "   * [SVC](#102)\n",
    "   * [Random Forest](#103)\n",
    "   * [Logistic Regression](#104)\n",
    "   * [Decision Tree Classifier](#105)\n",
    "   * [AdaBoost Classifier](#106)\n",
    "   * [Gradient Boosting Classifier](#107)\n",
    "   * [Voting Classifier](#108)\n",
    "\n"
   ]
  },
  {
   "cell_type": "markdown",
   "metadata": {},
   "source": [
    "<a id = \"1\" ></a>\n",
    "# <span style=\"font-family:serif; font-size:28px;\"> 1. Introduction</span>\n",
    "<a id = \"introduction\" ></a>"
   ]
  },
  {
   "cell_type": "markdown",
   "metadata": {},
   "source": [
    "<a id = \"2\" ></a>\n",
    "#### <b>What is Customer Churn?</b>\n",
    "<span style=\"font-size:16px;\">  Customer churn is defined as when customers or subscribers discontinue doing business with a firm or service. </span>\n",
    "\n",
    "<span style=\"font-size:16px;\"> Customers in the telecom industry can choose from a variety of service providers and actively switch from one to the next. The telecommunications business has an annual churn rate of 15-25 percent in this highly competitive market.</span>\n",
    "\n",
    "<span style=\"font-size:16px;\"> Individualized customer retention is tough because most firms have a large number of customers and can't afford to devote much time to each of them. The costs would be too great, outweighing the additional revenue. However, if a corporation could forecast which customers are likely to leave ahead of time, it could focus customer retention efforts only on these \"high risk\" clients. The ultimate goal is to expand its coverage area and retrieve more\n",
    "customers loyalty. The core to succeed in this market lies in the customer itself. \n",
    "</span>\n",
    "\n",
    "<span style=\"font-size:16px;\"> Customer churn is a critical metric because it is much less expensive to retain existing customers than it is to acquire new customers.</span>\n",
    "\n",
    "<a id=\"churn\"></a>\n",
    "<a id = \"3\" ></a>\n",
    "\n",
    "<span style=\"font-size:16px;\"><b>To reduce customer churn, telecom companies need to predict which customers are at high risk of churn.</b></span> \n",
    "\n",
    "<span style=\"font-size:16px;\"> To detect early signs of potential churn, one must first develop a holistic view of the customers and their interactions across numerous channels, including store/branch visits, product purchase histories, customer service calls, Web-based transactions, and social media interactions, to mention a few. </span> \n",
    "\n",
    "<span style=\"font-size:16px;\">As a result, by addressing churn, these businesses may not only preserve their market position, but also grow and thrive. More customers they have in their network, the lower the cost of initiation and the larger the profit. As a result, the company's key focus for success is reducing client attrition and implementing effective retention strategy. </span> \n",
    "<a id=\"reduce\"></a>\n",
    "\n",
    "<a id = \"4\" ></a>\n",
    "#### <b> Objectives</b>\n",
    "I will explore the data and try to answer some questions like:\n",
    "* What's the % of Churn Customers and customers that keep in with the active services?\n",
    "* Is there any patterns in Churn Customers based on the gender?\n",
    "* Is there any patterns/preference in Churn Customers based on the type of service provided?\n",
    "* What's the most profitable service types?\n",
    "* Which features and services are most profitable?\n",
    "* Many more questions that will arise during the analysis\n",
    "<a id=\"objective\"></a>"
   ]
  },
  {
   "cell_type": "markdown",
   "metadata": {},
   "source": [
    "<a id = \"5\" ></a>\n",
    "# <span style=\"font-family:serif; font-size:28px;\"> 2. Loading libraries and data</span>\n",
    "<a id=\"loading\"></a>"
   ]
  },
  {
   "cell_type": "code",
   "execution_count": 2,
   "metadata": {},
   "outputs": [],
   "source": [
    "import pandas as pd \n",
    "import numpy as np\n",
    "import matplotlib.pyplot as plt \n",
    "import seaborn as sns"
   ]
  },
  {
   "cell_type": "markdown",
   "metadata": {},
   "source": [
    "### display the data"
   ]
  },
  {
   "cell_type": "code",
   "execution_count": null,
   "metadata": {},
   "outputs": [],
   "source": [
    "df = pd.read_csv('')"
   ]
  }
 ],
 "metadata": {
  "kernelspec": {
   "display_name": "base",
   "language": "python",
   "name": "python3"
  },
  "language_info": {
   "codemirror_mode": {
    "name": "ipython",
    "version": 3
   },
   "file_extension": ".py",
   "mimetype": "text/x-python",
   "name": "python",
   "nbconvert_exporter": "python",
   "pygments_lexer": "ipython3",
   "version": "3.11.7"
  }
 },
 "nbformat": 4,
 "nbformat_minor": 2
}
